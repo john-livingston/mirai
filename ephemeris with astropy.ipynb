{
 "cells": [
  {
   "cell_type": "markdown",
   "metadata": {},
   "source": [
    "## Using astroplan\n",
    "\n",
    "* [example](https://astroplan.readthedocs.io/en/latest/tutorials/periodic.html)"
   ]
  },
  {
   "cell_type": "code",
   "execution_count": 25,
   "metadata": {},
   "outputs": [],
   "source": [
    "import sys\n",
    "import datetime as dt\n",
    "import numpy as np\n",
    "import matplotlib.pyplot as pl\n",
    "\n",
    "from astroquery.exoplanet_orbit_database import ExoplanetOrbitDatabase\n",
    "from astroplan import FixedTarget, Observer, EclipsingSystem\n",
    "from astroplan.plots import plot_airmass\n",
    "from astropy.coordinates import SkyCoord\n",
    "from astropy.time import Time\n",
    "import astropy.units as u\n",
    "# from astroplan import download_IERS_A\n",
    "# download_IERS_A()\n",
    "from astroplan import (PrimaryEclipseConstraint, MoonSeparationConstraint,\n",
    "                       is_event_observable, is_always_observable, months_observable,\n",
    "                       AtNightConstraint, AltitudeConstraint, LocalTimeConstraint,\n",
    "                       AirmassConstraint)\n",
    "\n",
    "#lat,lon, elev, timezone\n",
    "#to see all timezones: import pytz; print(pytz.all_timezones)\n",
    "sites = {'OAO': (34.5761, 133.5941, 343, \"Asia/Tokyo\"),\n",
    "         'TCS': (28.291, 343.5033, 2395, \"UTC\"), \n",
    "         'SBO': (-31.2733, 149.0617, 1145, \"Australia/Queensland\"), #siding spring observatory\n",
    "         'TRO': (-30.1692, -70.805, 2286, \"America/Santiago\") #cerro tololo observatory\n",
    "         #'SBO': (-17.8799, 28.758, 0, \"Australia\"), \n",
    "         #'TRO': (-28.1911, 153.2654, 0, \"UTC\")\n",
    "        }"
   ]
  },
  {
   "cell_type": "markdown",
   "metadata": {},
   "source": [
    "## EPIC or TOI"
   ]
  },
  {
   "cell_type": "code",
   "execution_count": 3,
   "metadata": {},
   "outputs": [],
   "source": [
    "import k2plr\n",
    "client = k2plr.API()\n",
    "\n",
    "def get_ra_dec(epicnum,verbose=False):\n",
    "    '''\n",
    "    get ra, dec, and mag using `k2plr`\n",
    "    '''\n",
    "    if verbose:\n",
    "        print('\\nquerying RA and DEC...\\n')\n",
    "    epic = client.k2_star(int(epicnum))\n",
    "    ra  = float(epic.k2_ra)\n",
    "    dec = float(epic.k2_dec)\n",
    "    #mag = float(epic.kp)\n",
    "    return ra, dec"
   ]
  },
  {
   "cell_type": "raw",
   "metadata": {},
   "source": [
    "targetname = 'TOI460' \n",
    "target_RA  = 47.643478\n",
    "target_Dec = -9.27681\n",
    "\n",
    "epoch   = 2458411.065871 #jd\n",
    "period  = 0.52     #day\n",
    "duration= 0.9333   #day"
   ]
  },
  {
   "cell_type": "code",
   "execution_count": null,
   "metadata": {},
   "outputs": [],
   "source": [
    "targetname = 'TOI460' #None\n",
    "target_RA  = 47.643478\n",
    "target_Dec = -9.27681\n",
    "\n",
    "epoch   = 2458411.065871 #jd\n",
    "period  = 0.52     #day\n",
    "duration= 0.9333   #day"
   ]
  },
  {
   "cell_type": "code",
   "execution_count": 49,
   "metadata": {},
   "outputs": [
    {
     "name": "stderr",
     "output_type": "stream",
     "text": [
      "WARNING: Tried to get polar motions for times after IERS data is valid. Defaulting to polar motion from the 50-yr mean for those. This may affect precision at the 10s of arcsec level [astropy.coordinates.builtin_frames.utils]\n"
     ]
    },
    {
     "name": "stdout",
     "output_type": "stream",
     "text": [
      "TOI460: Next observable event from TRO is on 2020-04-01 23:10:51.254\n"
     ]
    }
   ],
   "source": [
    "n_transits = 1000\n",
    "include_partial_transits = True\n",
    "\n",
    "#observation parameters\n",
    "obs_start_date = '2019-02-17' #UT\n",
    "obs_start_time = '00:01'      #UT\n",
    "obs_end_date   = '2019-04-20' #UT\n",
    "obs_end_time   = '23:59'      #UT\n",
    "obs_start = ' '.join((obs_start_date, obs_start_time))\n",
    "obs_end   = ' '.join((obs_end_date, obs_end_time))\n",
    "observing_time = Time(obs_start)\n",
    "sitename   = 'TRO'\n",
    "timezone   = 'America/Santiago'\n",
    "\n",
    "#constraints\n",
    "min_local_time = dt.time(19, 0)  # 18:00 local time \n",
    "max_local_time = dt.time(0, 0)   # 00:00 local time (midnight)\n",
    "target_altitude_limit = 30 #deg\n",
    "min_moon_sep = 10 #deg\n",
    "\n",
    "#set-up target\n",
    "#target_RA, target_Dec = get_ra_dec(targetname)\n",
    "\n",
    "#set-up transit parameters\n",
    "primary_eclipse_time = Time(epoch, format='jd')\n",
    "orbital_period = period * u.day  \n",
    "transit_duration = duration * u.day\n",
    "\n",
    "if np.all([target_RA, target_Dec]):\n",
    "    target_coord = SkyCoord(ra=target_RA*u.deg, dec=target_Dec*u.deg)\n",
    "    targetloc = FixedTarget(target_coord, targetname)\n",
    "else:\n",
    "    targetloc = FixedTarget.from_name(targetname)\n",
    "    \n",
    "#set-up observation parameters\n",
    "if sitename in list(sites.keys()):\n",
    "    lat,lon,elev,timezone = sites[sitename]\n",
    "    observatory_site = Observer(latitude=lat*u.deg, longitude=lon*u.deg,\n",
    "                  elevation=elev*u.m, name=sitename, timezone=timezone)\n",
    "else: \n",
    "    observatory_site = Observer.at_site(sitename, timezone=timezone)\n",
    "\n",
    "ephemeris = EclipsingSystem(primary_eclipse_time=primary_eclipse_time,\n",
    "                            orbital_period=orbital_period, \n",
    "                            duration=transit_duration,\n",
    "                            name=targetname+' b')\n",
    "\n",
    "#see https://astroplan.readthedocs.io/en/latest/tutorials/constraints.html\n",
    "constraints = [AtNightConstraint.twilight_civil(),\n",
    "               AltitudeConstraint(min=target_altitude_limit*u.deg),\n",
    "               LocalTimeConstraint(min=min_local_time, max=max_local_time),\n",
    "               MoonSeparationConstraint(min=min_moon_sep*u.deg)]\n",
    "\n",
    "### Note: eclipse times are computed without any barycentric corrections\n",
    "\n",
    "if include_partial_transits:\n",
    "    midtransit_times = ephemeris.next_primary_eclipse_time(observing_time, \n",
    "                                                           n_eclipses=n_transits)\n",
    "    idx = is_event_observable(constraints, \n",
    "                          observatory_site, \n",
    "                          targetloc, \n",
    "                          times=midtransit_times)[0]\n",
    "    if np.any(idx):\n",
    "        time=midtransit_times[idx][0]\n",
    "        if time > Time(obs_end):\n",
    "            print('{}: Next observable event from {} is on {}'\n",
    "                  .format(targetname, sitename, time))\n",
    "        else:\n",
    "            print('{}: Observable partial transits from {} between {} & {}\\n{}'\n",
    "                  .format(targetname, sitename, obs_start, obs_end, midtransit_times[idx]))\n",
    "    else:\n",
    "        print('{}: No observable partial transit from {} between {} & {}'\n",
    "              .format(targetname, sitename, obs_start, obs_end))\n",
    "else:\n",
    "    ing_egr_times = ephemeris.next_primary_ingress_egress_time(observing_time, \n",
    "                                                               n_eclipses=n_transits)\n",
    "    idx = is_event_observable(constraints, \n",
    "                          observatory_site, \n",
    "                          targetloc,  \n",
    "                          times_ingress_egress=ing_egr_times)[0]\n",
    "    if np.any(idx):\n",
    "        time=ing_egr_times[idx][0]\n",
    "        if time > Time(obs_end):\n",
    "            print('{}: Next observable event from {} is on {}'\n",
    "                  .format(targetname, sitename, time))\n",
    "        else:\n",
    "            print('{}: Observable full transits from {} between {} & {}\\n{}'\n",
    "                  .format(targetname, sitename, obs_start, obs_end, ing_egr_times[idx]))\n",
    "    else:\n",
    "        print('{}: No observable full transit from {} between {} & {}'\n",
    "              .format(targetname, sitename, obs_start, obs_end))\n",
    "        \n",
    "#     plot_airmass(targetloc, \n",
    "#                  observatory_site, \n",
    "#                  time, \n",
    "#                  brightness_shading=True, \n",
    "#                  altitude_yaxis=True)\n",
    "    #ephemeris.next_secondary_eclipse_time(observing_time)\n",
    "    \n",
    "#     plot_airmass(targetloc, \n",
    "#                  observatory_site, \n",
    "#                  time, \n",
    "#                  brightness_shading=True, \n",
    "#                  altitude_yaxis=True)"
   ]
  },
  {
   "cell_type": "code",
   "execution_count": 42,
   "metadata": {},
   "outputs": [
    {
     "data": {
      "text/plain": [
       "'2019-02-17 04:56:27.254'"
      ]
     },
     "execution_count": 42,
     "metadata": {},
     "output_type": "execute_result"
    }
   ],
   "source": [
    "midtransit_times[0].iso"
   ]
  },
  {
   "cell_type": "code",
   "execution_count": 48,
   "metadata": {},
   "outputs": [
    {
     "data": {
      "image/png": "[encoded data removed]",
      "text/plain": [
       "<matplotlib.figure.Figure at 0x7f0754f80c18>"
      ]
     },
     "metadata": {},
     "output_type": "display_data"
    }
   ],
   "source": [
    "from astroplan.utils import time_grid_from_range\n",
    "time_resolution = 15 * u.minute\n",
    "\n",
    "start_time = Time('2019-02-17 03:56:27.254')\n",
    "end_time   = Time('2019-02-17 05:56:27.254')\n",
    "# Create grid of times from ``start_time`` to ``end_time``\n",
    "# with resolution ``time_resolution``\n",
    "time_grid = time_grid_from_range([start_time, end_time],\n",
    "                                 time_resolution=time_resolution)\n",
    "\n",
    "observability_grid = np.zeros((len(constraints), len(time_grid)))\n",
    "\n",
    "for i, constraint in enumerate(constraints):\n",
    "    # Evaluate each constraint\n",
    "    observability_grid[i, :] = constraint(observatory_site, targetloc, times=time_grid)\n",
    "\n",
    "# Create plot showing observability of the target:\n",
    "\n",
    "extent = [-0.5, -0.5+len(time_grid), -0.5, 2.5]\n",
    "\n",
    "fig, ax = pl.subplots()\n",
    "ax.imshow(observability_grid, extent=extent)\n",
    "\n",
    "ax.set_yticks(range(0, 3))\n",
    "ax.set_yticklabels([c.__class__.__name__ for c in constraints])\n",
    "\n",
    "ax.set_xticks(range(len(time_grid)))\n",
    "ax.set_xticklabels([t.datetime.strftime(\"%H:%M\") for t in time_grid])\n",
    "\n",
    "ax.set_xticks(np.arange(extent[0], extent[1]), minor=True)\n",
    "ax.set_yticks(np.arange(extent[2], extent[3]), minor=True)\n",
    "\n",
    "ax.grid(which='minor', color='w', linestyle='-', linewidth=2)\n",
    "ax.tick_params(axis='x', which='minor', bottom='off')\n",
    "pl.setp(ax.get_xticklabels(), rotation=30, ha='right')\n",
    "\n",
    "ax.tick_params(axis='y', which='minor', left='off')\n",
    "ax.set_xlabel('Time on {0} UTC'.format(time_grid[0].datetime.date()))\n",
    "fig.subplots_adjust(left=0.35, right=0.9, top=0.9, bottom=0.1)\n",
    "pl.show()"
   ]
  },
  {
   "cell_type": "raw",
   "metadata": {},
   "source": [
    "ing_egr_times = ephemeris.next_primary_ingress_egress_time(observing_time, \n",
    "                                                               n_eclipses=n_transits)"
   ]
  },
  {
   "cell_type": "raw",
   "metadata": {},
   "source": [
    "#works for list of targets only?\n",
    "\n",
    "from astroplan import observability_table\n",
    "table = observability_table(constraints, observatory_site, targets, time_range=ing_egr_times[0])\n",
    "table\n",
    "\n",
    "months_observable(constraints, observatory_site, targetloc)"
   ]
  },
  {
   "cell_type": "markdown",
   "metadata": {},
   "source": [
    "## Given a list of targets"
   ]
  },
  {
   "cell_type": "raw",
   "metadata": {},
   "source": [
    "# Read in the table of targets\n",
    "from astropy.table import Table\n",
    "target_table = Table.read('targets.txt', format='ascii')\n",
    "\n",
    "# Create astroplan.FixedTarget objects for each one in the table\n",
    "from astropy.coordinates import SkyCoord\n",
    "import astropy.units as u\n",
    "targets = [FixedTarget(coord=SkyCoord(ra=ra*u.deg, dec=dec*u.deg), name=name)\n",
    "           for name, ra, dec in target_table]\n",
    "\n",
    "# During what months are the targets ever observable?\n",
    "best_months = months_observable(constraints, observatory_site, targets)"
   ]
  },
  {
   "cell_type": "markdown",
   "metadata": {},
   "source": [
    "## Known target"
   ]
  },
  {
   "cell_type": "code",
   "execution_count": 8,
   "metadata": {},
   "outputs": [
    {
     "name": "stdout",
     "output_type": "stream",
     "text": [
      "Mid-transit time reference: Knutson 2007; period reference: Knutson 2007\n"
     ]
    }
   ],
   "source": [
    "targetname = 'HD 209458' #None\n",
    "target_RA  = None\n",
    "target_Dec = None\n",
    "\n",
    "n_transits = 10\n",
    "include_partial_transits = True\n",
    "\n",
    "epoch = None#2452826.628514 #jd\n",
    "period= None#3.52474859     #day\n",
    "duration= None#0.1277       #day\n",
    "\n",
    "#observation parameters\n",
    "obs_start_date = '2019-02-19' #UT\n",
    "obs_start_time = '00:00'      #UT\n",
    "obs_start = ' '.join((obs_start_date, obs_start_time))\n",
    "observing_time = Time(obs_start)\n",
    "sitename   = 'OAO'#'APO'\n",
    "timezone   = 'US/Mountain'\n",
    "\n",
    "#constraints\n",
    "min_local_time = dt.time(19, 0)  # 18:00 local time \n",
    "max_local_time = dt.time(0, 0)   # 00:00 local time (midnight)\n",
    "target_altitude_limit = 30 #deg\n",
    "\n",
    "#set-up target\n",
    "if not np.any([epoch,period,duration]):\n",
    "    try:\n",
    "        #query database\n",
    "        planet_properties = ExoplanetOrbitDatabase.query_planet(targetname+' b')\n",
    "        primary_eclipse_time = Time(planet_properties['TT'], format='jd')\n",
    "        orbital_period = planet_properties['PER']\n",
    "        transit_duration = planet_properties['T14']\n",
    "        print('Mid-transit time reference: {0}; period reference: {1}'\n",
    "              .format(planet_properties['TTREF'], planet_properties['PERREF']))\n",
    "    except Exception as e:\n",
    "        print(e)\n",
    "        sys.exit()\n",
    "else:    \n",
    "    #set-up transit parameters\n",
    "    primary_eclipse_time = Time(epoch, format='jd')\n",
    "    orbital_period = period * u.day  \n",
    "    transit_duration = duration * u.day\n",
    "\n",
    "if np.all([target_RA, target_Dec]):\n",
    "    target_coord = SkyCoord(ra=target_RA*u.deg, dec=target_Dec*u.deg)\n",
    "    targetloc = FixedTarget(target_coord, targetname)\n",
    "else:\n",
    "    targetloc = FixedTarget.from_name(targetname)\n",
    "    \n",
    "#set-up observation parameters\n",
    "if sitename in list(sites.keys()):\n",
    "    lat,lon,elev,timezone = sites[sitename]\n",
    "    observatory_site = Observer(latitude=lat*u.deg, longitude=lon*u.deg,\n",
    "                  elevation=elev*u.m, name=sitename, timezone=timezone)\n",
    "else: \n",
    "    observatory_site = Observer.at_site(sitename, timezone=timezone)\n",
    "\n",
    "ephemeris = EclipsingSystem(primary_eclipse_time=primary_eclipse_time,\n",
    "                            orbital_period=orbital_period, \n",
    "                            duration=transit_duration,\n",
    "                            name=targetname+' b')\n",
    "\n",
    "### Note: eclipse times are computed without any barycentric corrections\n",
    "\n",
    "midtransit_times = ephemeris.next_primary_eclipse_time(observing_time, n_eclipses=n_transits)\n",
    "ing_egr_times = ephemeris.next_primary_ingress_egress_time(observing_time, n_eclipses=n_transits)\n",
    "#ephemeris.next_secondary_eclipse_time(observing_time)\n",
    "\n",
    "if include_partial_transits:\n",
    "    ing_egr_times = None\n",
    "else:\n",
    "    midtransit_times = None\n",
    "\n",
    "constraints = [AtNightConstraint.twilight_civil(),\n",
    "               AltitudeConstraint(min=target_altitude_limit*u.deg),\n",
    "               LocalTimeConstraint(min=min_local_time, max=max_local_time)]\n",
    "\n",
    "is_event_observable(constraints, observatory_site, targetloc, times=midtransit_times, times_ingress_egress=ing_egr_times)"
   ]
  },
  {
   "cell_type": "markdown",
   "metadata": {},
   "source": [
    "## K2-target"
   ]
  },
  {
   "cell_type": "code",
   "execution_count": 42,
   "metadata": {},
   "outputs": [
    {
     "name": "stdout",
     "output_type": "stream",
     "text": [
      "Mid-transit time reference: Howell 2012; period reference: Howell 2012\n",
      "2019-03-26 20:26:13.944\n"
     ]
    },
    {
     "data": {
      "image/png": "[encoded data removed]",
      "text/plain": [
       "<matplotlib.figure.Figure at 0x7f435d023da0>"
      ]
     },
     "metadata": {},
     "output_type": "display_data"
    }
   ],
   "source": [
    "targetname = 'Kepler-21' #None\n",
    "target_RA  = None\n",
    "target_Dec = None\n",
    "\n",
    "n_transits = 100\n",
    "include_partial_transits = True\n",
    "\n",
    "epoch = None#2452826.628514 #jd\n",
    "period= None#3.52474859     #day\n",
    "duration= None#0.1277       #day\n",
    "\n",
    "#observation parameters\n",
    "obs_start_date = '2019-02-19' #UT\n",
    "obs_start_time = '00:00'      #UT\n",
    "obs_start = ' '.join((obs_start_date, obs_start_time))\n",
    "observing_time = Time(obs_start)\n",
    "sitename   = 'OAO'\n",
    "timezone   = 'US/Mountain'\n",
    "\n",
    "#constraints\n",
    "min_local_time = dt.time(19, 0)  # 18:00 local time \n",
    "max_local_time = dt.time(0, 0)   # 00:00 local time (midnight)\n",
    "target_altitude_limit = 30 #deg\n",
    "\n",
    "#set-up target\n",
    "if not np.any([epoch,period,duration]):\n",
    "    try:\n",
    "        #query database\n",
    "        planet_properties = ExoplanetOrbitDatabase.query_planet(targetname+' b')\n",
    "        \n",
    "        if isinstance(planet_properties['TT'],np.ma.core.MaskedConstant):\n",
    "            print('epoch not available in database!')\n",
    "            sys.exit()\n",
    "        else:\n",
    "            primary_eclipse_time = Time(planet_properties['TT'], format='jd')\n",
    "            \n",
    "        if isinstance(planet_properties['PER'],np.ma.core.MaskedConstant):\n",
    "            print('orbital period not available in database!') \n",
    "            sys.exit()\n",
    "        else:\n",
    "            orbital_period = planet_properties['PER']\n",
    "        \n",
    "        if isinstance(planet_properties['T14'],np.ma.core.MaskedConstant):\n",
    "            print('transit duration not available in database!') \n",
    "            sys.exit()\n",
    "        else:\n",
    "            transit_duration = planet_properties['T14']\n",
    "        print('Mid-transit time reference: {0}; period reference: {1}'\n",
    "              .format(planet_properties['TTREF'], planet_properties['PERREF']))\n",
    "    except Exception as e:\n",
    "        print(e)\n",
    "        sys.exit()\n",
    "else:    \n",
    "    #set-up transit parameters\n",
    "    primary_eclipse_time = Time(epoch, format='jd')\n",
    "    orbital_period = period * u.day  \n",
    "    transit_duration = duration * u.day\n",
    "\n",
    "if np.all([target_RA, target_Dec]):\n",
    "    target_coord = SkyCoord(ra=target_RA*u.deg, dec=target_Dec*u.deg)\n",
    "    targetloc = FixedTarget(target_coord, targetname)\n",
    "else:\n",
    "    targetloc = FixedTarget.from_name(targetname)\n",
    "    \n",
    "#set-up observation parameters\n",
    "if sitename in list(sites.keys()):\n",
    "    lat,lon,elev,timezone = sites[sitename]\n",
    "    observatory_site = Observer(latitude=lat*u.deg, longitude=lon*u.deg,\n",
    "                  elevation=elev*u.m, name=sitename, timezone=timezone)\n",
    "else: \n",
    "    observatory_site = Observer.at_site(sitename, timezone=timezone)\n",
    "\n",
    "ephemeris = EclipsingSystem(primary_eclipse_time=primary_eclipse_time,\n",
    "                            orbital_period=orbital_period, \n",
    "                            duration=transit_duration,\n",
    "                            name=targetname+' b')\n",
    "\n",
    "constraints = [AtNightConstraint.twilight_civil(),\n",
    "               AltitudeConstraint(min=target_altitude_limit*u.deg),\n",
    "               LocalTimeConstraint(min=min_local_time, max=max_local_time)]\n",
    "\n",
    "### Note: eclipse times are computed without any barycentric corrections\n",
    "\n",
    "if include_partial_transits:\n",
    "    midtransit_times = ephemeris.next_primary_eclipse_time(observing_time, \n",
    "                                                           n_eclipses=n_transits)\n",
    "    idx = is_event_observable(constraints, \n",
    "                          observatory_site, \n",
    "                          targetloc, \n",
    "                          times=midtransit_times)[0]\n",
    "    time = midtransit_times[idx][0]\n",
    "    print(time)\n",
    "    plot_airmass(targetloc, \n",
    "                 observatory_site, \n",
    "                 time, \n",
    "                 brightness_shading=True, \n",
    "                 altitude_yaxis=True)\n",
    "    #ephemeris.next_secondary_eclipse_time(observing_time)\n",
    "else:\n",
    "    ing_egr_times = ephemeris.next_primary_ingress_egress_time(observing_time, \n",
    "                                                               n_eclipses=n_transits)\n",
    "    idx = is_event_observable(constraints, \n",
    "                          observatory_site, \n",
    "                          targetloc,  \n",
    "                          times_ingress_egress=ing_egr_times)[0]\n",
    "    time=ing_egr_times[idx][0]\n",
    "    print(time)\n",
    "    plot_airmass(targetloc, \n",
    "                 observatory_site, \n",
    "                 time, \n",
    "                 brightness_shading=True, \n",
    "                 altitude_yaxis=True)"
   ]
  },
  {
   "cell_type": "markdown",
   "metadata": {},
   "source": [
    "## star plots"
   ]
  },
  {
   "cell_type": "code",
   "execution_count": 20,
   "metadata": {},
   "outputs": [
    {
     "name": "stderr",
     "output_type": "stream",
     "text": [
      "WARNING: AstropyDeprecationWarning: The truth value of a Quantity is ambiguous. In the future this will raise a ValueError. [astropy.units.quantity]\n"
     ]
    },
    {
     "data": {
      "image/png": "[encoded data removed]",
      "text/plain": [
       "<matplotlib.figure.Figure at 0x7f27b0b25c50>"
      ]
     },
     "metadata": {},
     "output_type": "display_data"
    }
   ],
   "source": [
    "from astroplan.plots import plot_finder_image\n",
    "from astroplan import FixedTarget\n",
    "import matplotlib.pyplot as pl\n",
    "\n",
    "targetloc = FixedTarget.from_name(\"M1\")\n",
    "ax, hdu = plot_finder_image(targetloc)\n",
    "pl.show()"
   ]
  },
  {
   "cell_type": "code",
   "execution_count": 19,
   "metadata": {},
   "outputs": [
    {
     "ename": "NameError",
     "evalue": "name 'observer' is not defined",
     "output_type": "error",
     "traceback": [
      "\u001b[0;31m---------------------------------------------------------------------------\u001b[0m",
      "\u001b[0;31mNameError\u001b[0m                                 Traceback (most recent call last)",
      "\u001b[0;32m<ipython-input-19-f5f0022e5a40>\u001b[0m in \u001b[0;36m<module>\u001b[0;34m()\u001b[0m\n\u001b[1;32m      4\u001b[0m \u001b[0;34m\u001b[0m\u001b[0m\n\u001b[1;32m      5\u001b[0m \u001b[0;34m\u001b[0m\u001b[0m\n\u001b[0;32m----> 6\u001b[0;31m \u001b[0mplot_airmass\u001b[0m\u001b[0;34m(\u001b[0m\u001b[0mtarget\u001b[0m\u001b[0;34m,\u001b[0m \u001b[0mobserver\u001b[0m\u001b[0;34m,\u001b[0m \u001b[0mobserving_time\u001b[0m\u001b[0;34m)\u001b[0m\u001b[0;34m\u001b[0m\u001b[0m\n\u001b[0m\u001b[1;32m      7\u001b[0m \u001b[0mpl\u001b[0m\u001b[0;34m.\u001b[0m\u001b[0mshow\u001b[0m\u001b[0;34m(\u001b[0m\u001b[0;34m)\u001b[0m\u001b[0;34m\u001b[0m\u001b[0m\n",
      "\u001b[0;31mNameError\u001b[0m: name 'observer' is not defined"
     ]
    }
   ],
   "source": [
    "import matplotlib.pyplot as pl\n",
    "from astropy.time import Time\n",
    "from astroplan.plots import plot_airmass\n",
    "\n",
    "\n",
    "plot_airmass(target, observer, observing_time)\n",
    "pl.show()"
   ]
  },
  {
   "cell_type": "markdown",
   "metadata": {},
   "source": [
    "## Using astroquery.nasa_exoplanet_archive"
   ]
  },
  {
   "cell_type": "code",
   "execution_count": 16,
   "metadata": {},
   "outputs": [
    {
     "data": {
      "text/html": [
       "<i>QTable masked=True length=2</i>\n",
       "<table id=\"table140103431113024\" class=\"table-striped table-bordered table-condensed\">\n",
       "<thead><tr><th>pl_hostname</th><th>pl_letter</th><th>pl_name</th><th>pl_discmethod</th><th>pl_controvflag</th><th>pl_pnum</th><th>pl_orbper</th><th>pl_orbpererr1</th><th>pl_orbpererr2</th><th>pl_orbperlim</th><th>pl_orbpern</th><th>pl_orbsmax</th><th>pl_orbsmaxerr1</th><th>pl_orbsmaxerr2</th><th>pl_orbsmaxlim</th><th>pl_orbsmaxn</th><th>pl_orbeccen</th><th>pl_orbeccenerr1</th><th>pl_orbeccenerr2</th><th>pl_orbeccenlim</th><th>pl_orbeccenn</th><th>pl_orbincl</th><th>pl_orbinclerr1</th><th>pl_orbinclerr2</th><th>pl_orbincllim</th><th>pl_orbincln</th><th>pl_bmassj</th><th>pl_bmassjerr1</th><th>pl_bmassjerr2</th><th>pl_bmassjlim</th><th>pl_bmassn</th><th>pl_bmassprov</th><th>pl_radj</th><th>pl_radjerr1</th><th>pl_radjerr2</th><th>pl_radjlim</th><th>pl_radn</th><th>pl_dens</th><th>pl_denserr1</th><th>pl_denserr2</th><th>pl_denslim</th><th>pl_densn</th><th>pl_ttvflag</th><th>pl_kepflag</th><th>pl_k2flag</th><th>ra_str</th><th>dec_str</th><th>ra</th><th>st_raerr</th><th>dec</th><th>st_decerr</th><th>st_posn</th><th>st_dist</th><th>st_disterr1</th><th>st_disterr2</th><th>st_distlim</th><th>st_distn</th><th>st_optmag</th><th>st_optmagerr</th><th>st_optmaglim</th><th>st_optband</th><th>gaia_gmag</th><th>gaia_gmagerr</th><th>gaia_gmaglim</th><th>st_teff</th><th>st_tefferr1</th><th>st_tefferr2</th><th>st_tefflim</th><th>st_teffn</th><th>st_mass</th><th>st_masserr1</th><th>st_masserr2</th><th>st_masslim</th><th>st_massn</th><th>st_rad</th><th>st_raderr1</th><th>st_raderr2</th><th>st_radlim</th><th>st_radn</th><th>pl_nnotes</th><th>rowupdate</th><th>pl_facility</th><th>NAME_LOWERCASE</th><th>sky_coord</th></tr></thead>\n",
       "<thead><tr><th></th><th></th><th></th><th></th><th></th><th></th><th>d</th><th>d</th><th>d</th><th>d</th><th></th><th>AU</th><th>AU</th><th>AU</th><th>AU</th><th></th><th></th><th></th><th></th><th></th><th></th><th>deg</th><th>deg</th><th>deg</th><th>deg</th><th></th><th>jupiterMass</th><th>jupiterMass</th><th>jupiterMass</th><th>jupiterMass</th><th></th><th></th><th>jupiterRad</th><th>jupiterRad</th><th>jupiterRad</th><th>jupiterRad</th><th></th><th></th><th></th><th></th><th></th><th></th><th></th><th></th><th></th><th></th><th></th><th>deg</th><th></th><th>deg</th><th></th><th></th><th>pc</th><th>pc</th><th>pc</th><th>pc</th><th></th><th>mag</th><th>mag</th><th>mag</th><th></th><th></th><th></th><th></th><th>K</th><th>K</th><th>K</th><th>K</th><th></th><th>solMass</th><th>solMass</th><th>solMass</th><th>solMass</th><th></th><th>solRad</th><th>solRad</th><th>solRad</th><th>solRad</th><th></th><th></th><th></th><th></th><th></th><th>deg,deg</th></tr></thead>\n",
       "<thead><tr><th>str27</th><th>str1</th><th>str29</th><th>str29</th><th>int64</th><th>int64</th><th>float64</th><th>float64</th><th>float64</th><th>float64</th><th>int64</th><th>float64</th><th>float64</th><th>float64</th><th>float64</th><th>int64</th><th>float64</th><th>float64</th><th>float64</th><th>int64</th><th>int64</th><th>float64</th><th>float64</th><th>float64</th><th>float64</th><th>int64</th><th>float64</th><th>float64</th><th>float64</th><th>float64</th><th>int64</th><th>str14</th><th>float64</th><th>float64</th><th>float64</th><th>float64</th><th>int64</th><th>float64</th><th>float64</th><th>float64</th><th>int64</th><th>int64</th><th>int64</th><th>int64</th><th>int64</th><th>str14</th><th>str15</th><th>float64</th><th>float64</th><th>float64</th><th>float64</th><th>int64</th><th>float64</th><th>float64</th><th>float64</th><th>float64</th><th>int64</th><th>float64</th><th>float64</th><th>float64</th><th>str11</th><th>float64</th><th>int64</th><th>int64</th><th>float64</th><th>float64</th><th>float64</th><th>float64</th><th>int64</th><th>float64</th><th>float64</th><th>float64</th><th>float64</th><th>int64</th><th>float64</th><th>float64</th><th>float64</th><th>float64</th><th>int64</th><th>int64</th><th>str10</th><th>str44</th><th>str26</th><th>object</th></tr></thead>\n",
       "<tr><td>Kepler-54</td><td>c</td><td>Kepler-54 c</td><td>Transit</td><td>0</td><td>3</td><td>12.0717249</td><td>0.00029</td><td>-0.00029</td><td>0.0</td><td>5</td><td>0.0</td><td>0.0</td><td>0.0</td><td>0.0</td><td>0</td><td>--</td><td>--</td><td>--</td><td>--</td><td>0</td><td>0.0</td><td>0.0</td><td>0.0</td><td>0.0</td><td>0</td><td>0.37</td><td>0.0</td><td>0.0</td><td>1.0</td><td>2</td><td>Mass</td><td>0.11</td><td>0.0</td><td>0.0</td><td>0.0</td><td>6</td><td>--</td><td>--</td><td>--</td><td>--</td><td>0</td><td>1</td><td>1</td><td>0</td><td>19h39m05.75s</td><td>+43d03m22.7s</td><td>294.773939</td><td>1.7e-05</td><td>43.056295</td><td>1.7e-05</td><td>2</td><td>234.0</td><td>17.91</td><td>-17.24</td><td>0.0</td><td>3</td><td>15.847</td><td>0.0</td><td>0.0</td><td>Kepler-band</td><td>15.813</td><td>--</td><td>0</td><td>4252.0</td><td>100.0</td><td>-100.0</td><td>0.0</td><td>10</td><td>0.0</td><td>0.0</td><td>0.0</td><td>0.0</td><td>7</td><td>0.55</td><td>0.02</td><td>-0.02</td><td>0.0</td><td>11</td><td>1</td><td>2014-05-14</td><td>Kepler</td><td>kepler-54c</td><td>294.773939,43.056295</td></tr>\n",
       "<tr><td>Kepler-54</td><td>d</td><td>Kepler-54 d</td><td>Transit</td><td>0</td><td>3</td><td>20.995694</td><td>0.000143</td><td>-0.000143</td><td>0.0</td><td>4</td><td>0.126</td><td>0.0</td><td>0.0</td><td>0.0</td><td>1</td><td>--</td><td>--</td><td>--</td><td>--</td><td>0</td><td>0.0</td><td>0.0</td><td>0.0</td><td>0.0</td><td>0</td><td>0.0</td><td>0.0</td><td>0.0</td><td>0.0</td><td>0</td><td>--</td><td>0.136</td><td>0.007</td><td>-0.007</td><td>0.0</td><td>5</td><td>--</td><td>--</td><td>--</td><td>--</td><td>0</td><td>1</td><td>1</td><td>0</td><td>19h39m05.75s</td><td>+43d03m22.7s</td><td>294.773939</td><td>1.7e-05</td><td>43.056295</td><td>1.7e-05</td><td>2</td><td>234.0</td><td>17.91</td><td>-17.24</td><td>0.0</td><td>3</td><td>15.847</td><td>0.0</td><td>0.0</td><td>Kepler-band</td><td>15.813</td><td>--</td><td>0</td><td>4252.0</td><td>100.0</td><td>-100.0</td><td>0.0</td><td>10</td><td>0.0</td><td>0.0</td><td>0.0</td><td>0.0</td><td>7</td><td>0.55</td><td>0.02</td><td>-0.02</td><td>0.0</td><td>11</td><td>1</td><td>2014-05-14</td><td>Kepler</td><td>kepler-54d</td><td>294.773939,43.056295</td></tr>\n",
       "</table>"
      ],
      "text/plain": [
       "<QTable masked=True length=2>\n",
       "pl_hostname pl_letter   pl_name   ... NAME_LOWERCASE      sky_coord      \n",
       "                                  ...                      deg,deg       \n",
       "   str27       str1      str29    ...     str26             object       \n",
       "----------- --------- ----------- ... -------------- --------------------\n",
       "  Kepler-54         c Kepler-54 c ...     kepler-54c 294.773939,43.056295\n",
       "  Kepler-54         d Kepler-54 d ...     kepler-54d 294.773939,43.056295"
      ]
     },
     "execution_count": 16,
     "metadata": {},
     "output_type": "execute_result"
    }
   ],
   "source": [
    "from astroquery.nasa_exoplanet_archive import NasaExoplanetArchive\n",
    "tab = NasaExoplanetArchive.get_confirmed_planets_table()\n",
    "#conversion to pandas doesn't work because of mix-in columns (parameter name and units)\n",
    "#df = tab.to_pandas()\n",
    "tab[:2]"
   ]
  },
  {
   "cell_type": "code",
   "execution_count": 38,
   "metadata": {},
   "outputs": [
    {
     "data": {
      "text/html": [
       "<i>Row index=3437 masked=True</i>\n",
       "<table id=\"table140103368596560\">\n",
       "<thead><tr><th>pl_hostname</th><th>pl_letter</th><th>pl_name</th><th>pl_discmethod</th><th>pl_controvflag</th><th>pl_pnum</th><th>pl_orbper</th><th>pl_orbpererr1</th><th>pl_orbpererr2</th><th>pl_orbperlim</th><th>pl_orbpern</th><th>pl_orbsmax</th><th>pl_orbsmaxerr1</th><th>pl_orbsmaxerr2</th><th>pl_orbsmaxlim</th><th>pl_orbsmaxn</th><th>pl_orbeccen</th><th>pl_orbeccenerr1</th><th>pl_orbeccenerr2</th><th>pl_orbeccenlim</th><th>pl_orbeccenn</th><th>pl_orbincl</th><th>pl_orbinclerr1</th><th>pl_orbinclerr2</th><th>pl_orbincllim</th><th>pl_orbincln</th><th>pl_bmassj</th><th>pl_bmassjerr1</th><th>pl_bmassjerr2</th><th>pl_bmassjlim</th><th>pl_bmassn</th><th>pl_bmassprov</th><th>pl_radj</th><th>pl_radjerr1</th><th>pl_radjerr2</th><th>pl_radjlim</th><th>pl_radn</th><th>pl_dens</th><th>pl_denserr1</th><th>pl_denserr2</th><th>pl_denslim</th><th>pl_densn</th><th>pl_ttvflag</th><th>pl_kepflag</th><th>pl_k2flag</th><th>ra_str</th><th>dec_str</th><th>ra</th><th>st_raerr</th><th>dec</th><th>st_decerr</th><th>st_posn</th><th>st_dist</th><th>st_disterr1</th><th>st_disterr2</th><th>st_distlim</th><th>st_distn</th><th>st_optmag</th><th>st_optmagerr</th><th>st_optmaglim</th><th>st_optband</th><th>gaia_gmag</th><th>gaia_gmagerr</th><th>gaia_gmaglim</th><th>st_teff</th><th>st_tefferr1</th><th>st_tefferr2</th><th>st_tefflim</th><th>st_teffn</th><th>st_mass</th><th>st_masserr1</th><th>st_masserr2</th><th>st_masslim</th><th>st_massn</th><th>st_rad</th><th>st_raderr1</th><th>st_raderr2</th><th>st_radlim</th><th>st_radn</th><th>pl_nnotes</th><th>rowupdate</th><th>pl_facility</th><th>NAME_LOWERCASE</th><th>sky_coord</th></tr></thead>\n",
       "<thead><tr><th></th><th></th><th></th><th></th><th></th><th></th><th>d</th><th>d</th><th>d</th><th>d</th><th></th><th>AU</th><th>AU</th><th>AU</th><th>AU</th><th></th><th></th><th></th><th></th><th></th><th></th><th>deg</th><th>deg</th><th>deg</th><th>deg</th><th></th><th>jupiterMass</th><th>jupiterMass</th><th>jupiterMass</th><th>jupiterMass</th><th></th><th></th><th>jupiterRad</th><th>jupiterRad</th><th>jupiterRad</th><th>jupiterRad</th><th></th><th></th><th></th><th></th><th></th><th></th><th></th><th></th><th></th><th></th><th></th><th>deg</th><th></th><th>deg</th><th></th><th></th><th>pc</th><th>pc</th><th>pc</th><th>pc</th><th></th><th>mag</th><th>mag</th><th>mag</th><th></th><th></th><th></th><th></th><th>K</th><th>K</th><th>K</th><th>K</th><th></th><th>solMass</th><th>solMass</th><th>solMass</th><th>solMass</th><th></th><th>solRad</th><th>solRad</th><th>solRad</th><th>solRad</th><th></th><th></th><th></th><th></th><th></th><th>deg,deg</th></tr></thead>\n",
       "<thead><tr><th>str27</th><th>str1</th><th>str29</th><th>str29</th><th>int64</th><th>int64</th><th>float64</th><th>float64</th><th>float64</th><th>float64</th><th>int64</th><th>float64</th><th>float64</th><th>float64</th><th>float64</th><th>int64</th><th>float64</th><th>float64</th><th>float64</th><th>int64</th><th>int64</th><th>float64</th><th>float64</th><th>float64</th><th>float64</th><th>int64</th><th>float64</th><th>float64</th><th>float64</th><th>float64</th><th>int64</th><th>str14</th><th>float64</th><th>float64</th><th>float64</th><th>float64</th><th>int64</th><th>float64</th><th>float64</th><th>float64</th><th>int64</th><th>int64</th><th>int64</th><th>int64</th><th>int64</th><th>str14</th><th>str15</th><th>float64</th><th>float64</th><th>float64</th><th>float64</th><th>int64</th><th>float64</th><th>float64</th><th>float64</th><th>float64</th><th>int64</th><th>float64</th><th>float64</th><th>float64</th><th>str11</th><th>float64</th><th>int64</th><th>int64</th><th>float64</th><th>float64</th><th>float64</th><th>float64</th><th>int64</th><th>float64</th><th>float64</th><th>float64</th><th>float64</th><th>int64</th><th>float64</th><th>float64</th><th>float64</th><th>float64</th><th>int64</th><th>int64</th><th>str10</th><th>str44</th><th>str26</th><th>object</th></tr></thead>\n",
       "<tr><td>WASP-107</td><td>b</td><td>WASP-107 b</td><td>Transit</td><td>0</td><td>1</td><td>5.72149</td><td>2e-06</td><td>-2e-06</td><td>0.0</td><td>3</td><td>0.055</td><td>0.001</td><td>-0.001</td><td>0.0</td><td>3</td><td>0.0</td><td>--</td><td>--</td><td>0</td><td>3</td><td>89.7</td><td>0.2</td><td>-0.2</td><td>0.0</td><td>3</td><td>0.12</td><td>0.01</td><td>-0.01</td><td>0.0</td><td>3</td><td>Mass</td><td>0.94</td><td>0.02</td><td>-0.02</td><td>0.0</td><td>3</td><td>0.19</td><td>0.03</td><td>-0.03</td><td>0</td><td>2</td><td>0</td><td>0</td><td>0</td><td>12h33m32.85s</td><td>-10d08m46.1s</td><td>188.386871</td><td>0.0</td><td>-10.146149</td><td>0.0</td><td>1</td><td>64.86</td><td>0.26</td><td>-0.26</td><td>0.0</td><td>1</td><td>11.471</td><td>0.196</td><td>0.0</td><td>V (Johnson)</td><td>11.174</td><td>--</td><td>0</td><td>4430.0</td><td>120.0</td><td>-120.0</td><td>0.0</td><td>3</td><td>0.69</td><td>0.05</td><td>-0.05</td><td>0.0</td><td>3</td><td>0.66</td><td>0.02</td><td>-0.02</td><td>0.0</td><td>4</td><td>0</td><td>2017-08-17</td><td>SuperWASP-South</td><td>wasp-107b</td><td>188.386871,-10.146149</td></tr>\n",
       "</table>"
      ],
      "text/plain": [
       "<Row index=3437 masked=True>\n",
       "pl_hostname pl_letter  pl_name   pl_discmethod pl_controvflag pl_pnum pl_orbper pl_orbpererr1 pl_orbpererr2 pl_orbperlim pl_orbpern pl_orbsmax pl_orbsmaxerr1 pl_orbsmaxerr2 pl_orbsmaxlim pl_orbsmaxn pl_orbeccen pl_orbeccenerr1 pl_orbeccenerr2 pl_orbeccenlim pl_orbeccenn pl_orbincl pl_orbinclerr1 pl_orbinclerr2 pl_orbincllim pl_orbincln  pl_bmassj  pl_bmassjerr1 pl_bmassjerr2 pl_bmassjlim pl_bmassn pl_bmassprov  pl_radj   pl_radjerr1 pl_radjerr2 pl_radjlim pl_radn pl_dens pl_denserr1 pl_denserr2 pl_denslim pl_densn pl_ttvflag pl_kepflag pl_k2flag    ra_str      dec_str        ra     st_raerr    dec     st_decerr st_posn st_dist st_disterr1 st_disterr2 st_distlim st_distn st_optmag st_optmagerr st_optmaglim  st_optband gaia_gmag gaia_gmagerr gaia_gmaglim st_teff st_tefferr1 st_tefferr2 st_tefflim st_teffn st_mass st_masserr1 st_masserr2 st_masslim st_massn  st_rad st_raderr1 st_raderr2 st_radlim st_radn pl_nnotes rowupdate    pl_facility   NAME_LOWERCASE       sky_coord      \n",
       "                                                                          d           d             d            d                      AU           AU             AU             AU                                                                                             deg          deg            deg            deg                  jupiterMass  jupiterMass   jupiterMass  jupiterMass                         jupiterRad  jupiterRad  jupiterRad jupiterRad                                                                                                                          deg                 deg                          pc        pc          pc         pc                 mag        mag          mag                                                         K         K           K          K               solMass   solMass     solMass    solMass             solRad   solRad     solRad     solRad                                                                     deg,deg       \n",
       "   str27       str1     str29        str29         int64       int64   float64     float64       float64      float64      int64     float64      float64        float64        float64       int64      float64       float64         float64         int64         int64      float64      float64        float64        float64       int64      float64      float64       float64      float64      int64      str14      float64     float64     float64    float64    int64  float64   float64     float64     int64     int64     int64      int64      int64      str14        str15      float64   float64   float64    float64   int64  float64   float64     float64    float64    int64    float64    float64      float64       str11     float64     int64        int64     float64   float64     float64    float64    int64   float64   float64     float64    float64    int64   float64  float64    float64    float64   int64    int64     str10         str44          str26              object       \n",
       "----------- --------- ---------- ------------- -------------- ------- --------- ------------- ------------- ------------ ---------- ---------- -------------- -------------- ------------- ----------- ----------- --------------- --------------- -------------- ------------ ---------- -------------- -------------- ------------- ----------- ----------- ------------- ------------- ------------ --------- ------------ ---------- ----------- ----------- ---------- ------- ------- ----------- ----------- ---------- -------- ---------- ---------- --------- ------------ ------------ ---------- -------- ---------- --------- ------- ------- ----------- ----------- ---------- -------- --------- ------------ ------------ ----------- --------- ------------ ------------ ------- ----------- ----------- ---------- -------- ------- ----------- ----------- ---------- -------- ------- ---------- ---------- --------- ------- --------- ---------- --------------- -------------- ---------------------\n",
       "   WASP-107         b WASP-107 b       Transit              0       1   5.72149         2e-06        -2e-06          0.0          3      0.055          0.001         -0.001           0.0           3         0.0              --              --              0            3       89.7            0.2           -0.2           0.0           3        0.12          0.01         -0.01          0.0         3         Mass       0.94        0.02       -0.02        0.0       3    0.19        0.03       -0.03          0        2          0          0         0 12h33m32.85s -10d08m46.1s 188.386871      0.0 -10.146149       0.0       1   64.86        0.26       -0.26        0.0        1    11.471        0.196          0.0 V (Johnson)    11.174           --            0  4430.0       120.0      -120.0        0.0        3    0.69        0.05       -0.05        0.0        3    0.66       0.02      -0.02       0.0       4         0 2017-08-17 SuperWASP-South      wasp-107b 188.386871,-10.146149"
      ]
     },
     "execution_count": 38,
     "metadata": {},
     "output_type": "execute_result"
    }
   ],
   "source": [
    "q = NasaExoplanetArchive.query_planet('WASP-107b')\n",
    "q"
   ]
  },
  {
   "cell_type": "code",
   "execution_count": 54,
   "metadata": {},
   "outputs": [],
   "source": [
    "per = q['pl_orbper'].value\n",
    "per"
   ]
  }
 ],
 "metadata": {
  "kernelspec": {
   "display_name": "Python 3",
   "language": "python",
   "name": "python3"
  },
  "language_info": {
   "codemirror_mode": {
    "name": "ipython",
    "version": 3
   },
   "file_extension": ".py",
   "mimetype": "text/x-python",
   "name": "python",
   "nbconvert_exporter": "python",
   "pygments_lexer": "ipython3",
   "version": "3.6.5"
  }
 },
 "nbformat": 4,
 "nbformat_minor": 2
}
